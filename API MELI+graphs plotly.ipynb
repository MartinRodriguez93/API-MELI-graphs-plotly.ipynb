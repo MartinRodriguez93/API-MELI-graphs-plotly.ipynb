import pandas as pd
import requests
import plotly.express as px
import matplotlib.pyplot as plt
import numpy as np
import plotly.graph_objects as go

#App ID and Secret Key (source: https://developers.mercadolibre.com.ar):
p_app_id='XXX'
p_secret_key='XXX'

#Source API MELI: https://developers.mercadolibre.com.ar/es_ar/categorias-y-publicaciones

#Request JSON sites:
api_meli_sites='https://api.mercadolibre.com/sites'
request_meli_sites=requests.get(url=api_meli_sites,
                    params={'client_id':p_app_id,
                            'client_secret':p_secret_key}
                    )
request_meli_sites.status_code

#Normalize JSON sites:
request_meli_sites.json()
dfmeli_sites=pd.json_normalize(request_meli_sites.json())
dfmeli_sites

#Concat DF with categories per sites:
URL='https://api.mercadolibre.com/sites/'
df_meli_cat=pd.DataFrame()

for i in dfmeli_sites['id']:
    request=requests.get(url=URL+i+'/categories',
                    params={'client_id':p_app_id,
                            'client_secret':p_secret_key}
                    )
    if request.status_code==200:
        print('ok',i)
        df=pd.json_normalize(request.json())
        df['site']=i
        df_meli_cat=pd.concat([df_meli_cat,df],axis=0)
    else: print('fallo'+i+'error'+request.status_code)
    
    #Index reset:
df_meli_cat_index=df_meli_cat.reset_index(drop=True)
df_meli_cat_index

# Check site length:
for i in df_meli_cat_index['site']:
    if len(i)!=3:
     print('Error')
    else:
        site_length=len(i)

#Add column with category number:
df_col_cod=[]
for i in range(0,df_meli_cat_index.shape[0]):
    df_col_cod.append(df_meli_cat_index['id'][i][site_length:])
df_col_cod
df_meli_cat_index['cat']=df_col_cod

#DF categories MLA:
df_MLA_cat=df_meli_cat_index.loc[df_meli_cat_index['site']=='MLA',:]

#Concat DF total per category and children MLA:
URL='https://api.mercadolibre.com/categories/MLA'
df_MLA_cat_ch=pd.DataFrame()

for i in df_MLA_cat['cat']:
    request=requests.get(url=URL+i,
                    params={'client_id':p_app_id,
                            'client_secret':p_secret_key}
                    )
    if request.status_code==200:
        print('ok',i)
        df_chcat=pd.json_normalize(request.json()['children_categories'])
        df_chcat['cat']=i
        df_MLA_cat_ch=pd.concat([df_MLA_cat_ch,df_chcat],axis=0)
    else: print('fallo'+i+'error'+request.status_code)
    
#Index reset:
df_MLA_cat_ch_index=df_MLA_cat_ch.reset_index(drop=True)
df_MLA_cat_ch_index.head()

#Merge DF:
df_MLA_cat_ch_index_con=df_MLA_cat_ch_index.merge(df_meli_MLA.loc[:,['name','cat']],how='left',on='cat').rename({'name_y':'name_madre'},axis=1)

#Treemap total per category and children:
fig=px.treemap(data_frame=df_MLA_cat_ch_index_con[['total_items_in_this_category','name_x','cat','name_madre']],
           path=[px.Constant('MLA'),'name_madre','name_x'],
           values='total_items_in_this_category',
           )
fig.data[0].textinfo = 'label+value+percent parent'
fig.layout.hovermode = False
fig.show()
